{
 "cells": [
  {
   "cell_type": "code",
   "execution_count": 1,
   "id": "4c1fdc65",
   "metadata": {},
   "outputs": [
    {
     "name": "stdout",
     "output_type": "stream",
     "text": [
      "80\n"
     ]
    }
   ],
   "source": [
    "sampleDict = {\n",
    "   \"class\":{ \n",
    "      \"student\":{ \n",
    "         \"name\":\"Mike\",\n",
    "         \"marks\":{ \n",
    "            \"physics\":70,\n",
    "            \"history\":80\n",
    "         }\n",
    "      }\n",
    "   }\n",
    "}\n",
    "print(sampleDict['class']['student']['marks']['history'])"
   ]
  },
  {
   "cell_type": "code",
   "execution_count": 2,
   "id": "17b3e98f",
   "metadata": {},
   "outputs": [
    {
     "name": "stdout",
     "output_type": "stream",
     "text": [
      "{'Kelly': {'designation': 'Application Developer', 'salary': 8000}, 'Emma': {'designation': 'Application Developer', 'salary': 8000}, 'John': {'designation': 'Application Developer', 'salary': 8000}}\n"
     ]
    }
   ],
   "source": [
    "# employees = ['Kelly', 'Emma', 'John']\n",
    "# defaults = {\"designation\": 'Application Developer', \"salary\": 8000}\n",
    "dictemp={\"Kelly\":{'designation': 'Application Developer', 'salary': 8000}, \n",
    "         \"Emma\": {'designation': 'Application Developer', 'salary': 8000}, \n",
    "         \"John\": {'designation': 'Application Developer', 'salary': 8000}}\n",
    "print(dictemp)\n"
   ]
  },
  {
   "cell_type": "code",
   "execution_count": 3,
   "id": "f7f48b9c",
   "metadata": {},
   "outputs": [
    {
     "name": "stdout",
     "output_type": "stream",
     "text": [
      "A\n"
     ]
    }
   ],
   "source": [
    "# Use a dictionary to provide the mapping of DNA to RNA bases.\n",
    "\n",
    "mRNA={'A':'U',\n",
    "     'T':'A',\n",
    "     'C':'G',\n",
    "     'G':'C'}\n",
    "\n",
    "print(mRNA['T'])\n"
   ]
  },
  {
   "cell_type": "code",
   "execution_count": 4,
   "id": "fdfe9124",
   "metadata": {},
   "outputs": [
    {
     "data": {
      "text/plain": [
       "{'g': 1, 'o': 1, 'l': 1, 'e': 1, '.': 1, 'c': 1, 'm': 1}"
      ]
     },
     "execution_count": 4,
     "metadata": {},
     "output_type": "execute_result"
    }
   ],
   "source": [
    "def dict(wrd):\n",
    "\n",
    "    d={}\n",
    "    k=0\n",
    "    i=0\n",
    "    for i in range(0,len(wrd)):\n",
    "        if wrd[i] in wrd:\n",
    "            k+=1\n",
    "        else:i+=1\n",
    "        d[(wrd[i])]=k\n",
    "        i+=1\n",
    "        k=0\n",
    "    return d\n",
    "dict('google.com')"
   ]
  },
  {
   "cell_type": "code",
   "execution_count": null,
   "id": "e50a769b",
   "metadata": {},
   "outputs": [],
   "source": [
    "def comp(wr):\n",
    "    i=0\n",
    "    k=0\n",
    "    d={}\n",
    "    for i in range(0,len(wr)):\n",
    "        if wr[i] in wr:\n",
    "            k+=1\n",
    "    d[wr[i]]=k\n",
    "        i+=1\n",
    "    return d\n",
    "\n",
    "\n",
    "\n",
    "comp(\"AGT\")\n"
   ]
  },
  {
   "cell_type": "code",
   "execution_count": 5,
   "id": "65210d52",
   "metadata": {},
   "outputs": [
    {
     "name": "stdout",
     "output_type": "stream",
     "text": [
      "Math\n"
     ]
    }
   ],
   "source": [
    "# Get the key corresponding to the minimum value from the following dictionary\n",
    "sampleDict = {\n",
    "   'Physics': 82,\n",
    "   'Math': 65,\n",
    "   'history': 75\n",
    " }\n",
    "\n",
    "\n",
    "mv=min(sampleDict.values())\n",
    "for i in sampleDict.keys():\n",
    "    if sampleDict[i]==mv:\n",
    "        print(i)"
   ]
  },
  {
   "cell_type": "code",
   "execution_count": 6,
   "id": "a768b8d3",
   "metadata": {},
   "outputs": [
    {
     "name": "stdout",
     "output_type": "stream",
     "text": [
      "{'name': 'Kelly', 'age': 25, 'salary': 8000, 'location': 'New York'}\n"
     ]
    }
   ],
   "source": [
    "# Rename key city to location in the following dictionary\n",
    "sampleDict = {\"name\": \"Kelly\",\n",
    "             \"age\":25,\n",
    "             \"salary\": 8000,\n",
    "             \"city\": \"New york\"\n",
    "              }\n",
    "\n",
    "\n",
    "sampleDict.keys()\n",
    "del sampleDict[\"city\"]\n",
    "sampleDict[\"location\"]=\"New York\"\n",
    "print(sampleDict)\n"
   ]
  },
  {
   "cell_type": "code",
   "execution_count": 7,
   "id": "2e974266",
   "metadata": {},
   "outputs": [
    {
     "name": "stdout",
     "output_type": "stream",
     "text": [
      "True\n"
     ]
    }
   ],
   "source": [
    "# Check if a value 200 exists in a dictionary\n",
    "sampleDict = {'a': 100, 'b': 200, 'c': 300}\n",
    "print(200 in sampleDict.values())"
   ]
  },
  {
   "cell_type": "code",
   "execution_count": 8,
   "id": "c5284bad",
   "metadata": {},
   "outputs": [
    {
     "name": "stdout",
     "output_type": "stream",
     "text": [
      "{'age': 25, 'city': 'New york'}\n"
     ]
    }
   ],
   "source": [
    "sampleDict = {\"name\": \"Kelly\",\n",
    "              \"age\":25,\n",
    "              \"salary\": 8000,\n",
    "              \"city\": \"New york\"\n",
    "              }\n",
    "del sampleDict['name'],sampleDict['salary']\n",
    "print(sampleDict)"
   ]
  },
  {
   "cell_type": "code",
   "execution_count": null,
   "id": "e7a5f400",
   "metadata": {},
   "outputs": [],
   "source": []
  }
 ],
 "metadata": {
  "kernelspec": {
   "display_name": "Python 3",
   "language": "python",
   "name": "python3"
  },
  "language_info": {
   "codemirror_mode": {
    "name": "ipython",
    "version": 3
   },
   "file_extension": ".py",
   "mimetype": "text/x-python",
   "name": "python",
   "nbconvert_exporter": "python",
   "pygments_lexer": "ipython3",
   "version": "3.8.8"
  }
 },
 "nbformat": 4,
 "nbformat_minor": 5
}
